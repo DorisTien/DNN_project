{
 "cells": [
  {
   "cell_type": "code",
   "execution_count": 6,
   "id": "4b3e268f-3d6c-4f38-8646-0ab2682171d4",
   "metadata": {},
   "outputs": [
    {
     "name": "stdout",
     "output_type": "stream",
     "text": [
      "No of Features: 561\n"
     ]
    }
   ],
   "source": [
    "import numpy as np\n",
    "import pandas as pd\n",
    "\n",
    "# get the features from the file features.txt\n",
    "features = list()\n",
    "with open(r\"C:\\Users\\doris\\Desktop\\Deep Neural Networks\\final project\\human+activity+recognition+using+smartphones\\UCI HAR Dataset\\UCI HAR Dataset\\features.txt\") as f:\n",
    "    features = [line.split()[1] for line in f.readlines()]\n",
    "    \n",
    "print('No of Features: {}'.format(len(features)))\n"
   ]
  },
  {
   "cell_type": "code",
   "execution_count": 9,
   "id": "a61a5949-9676-43eb-89c5-dc7d0c018fb3",
   "metadata": {},
   "outputs": [
    {
     "name": "stdout",
     "output_type": "stream",
     "text": [
      "      tBodyAcc-mean()-X  tBodyAcc-mean()-Y  tBodyAcc-mean()-Z   \n",
      "368            0.288273          -0.006332          -0.105401  \\\n",
      "2325           0.256740          -0.036577          -0.121912   \n",
      "\n",
      "      tBodyAcc-std()-X  tBodyAcc-std()-Y  tBodyAcc-std()-Z  tBodyAcc-mad()-X   \n",
      "368          -0.980508         -0.950002         -0.978482         -0.983822  \\\n",
      "2325         -0.443059         -0.087520         -0.022226         -0.504221   \n",
      "\n",
      "      tBodyAcc-mad()-Y  tBodyAcc-mad()-Z  tBodyAcc-max()-X  ...   \n",
      "368          -0.950426         -0.979708         -0.914472  ...  \\\n",
      "2325         -0.077076         -0.048948         -0.041465  ...   \n",
      "\n",
      "      angle(tBodyAccMean,gravity)  angle(tBodyAccJerkMean),gravityMean)   \n",
      "368                     -0.040024                              0.355503  \\\n",
      "2325                    -0.008905                              0.585477   \n",
      "\n",
      "      angle(tBodyGyroMean,gravityMean)  angle(tBodyGyroJerkMean,gravityMean)   \n",
      "368                          -0.832144                              0.157043  \\\n",
      "2325                          0.328301                              0.081607   \n",
      "\n",
      "      angle(X,gravityMean)  angle(Y,gravityMean)  angle(Z,gravityMean)   \n",
      "368              -0.675959              0.313533             -0.043825  \\\n",
      "2325             -0.532285              0.264461              0.300837   \n",
      "\n",
      "      subject  Activity  ActivityName  \n",
      "368         3         5      STANDING  \n",
      "2325       14         1       WALKING  \n",
      "\n",
      "[2 rows x 564 columns]\n"
     ]
    }
   ],
   "source": [
    "import pandas as pd\n",
    "\n",
    "# Load features from the features.txt file\n",
    "features = list()\n",
    "with open(r\"C:\\Users\\doris\\Desktop\\Deep Neural Networks\\final project\\human+activity+recognition+using+smartphones\\UCI HAR Dataset\\UCI HAR Dataset\\features.txt\") as f:\n",
    "    features = [line.split()[1] for line in f.readlines()]\n",
    "\n",
    "# Load X_train dataset\n",
    "X_train = pd.read_csv(r\"C:\\Users\\doris\\Desktop\\Deep Neural Networks\\final project\\human+activity+recognition+using+smartphones\\UCI HAR Dataset\\UCI HAR Dataset\\train\\X_train.txt\", delim_whitespace=True, header=None)\n",
    "X_train.columns = features  # Set column names to features\n",
    "\n",
    "# Add subject column\n",
    "X_train['subject'] = pd.read_csv(r\"C:\\Users\\doris\\Desktop\\Deep Neural Networks\\final project\\human+activity+recognition+using+smartphones\\UCI HAR Dataset\\UCI HAR Dataset\\train\\subject_train.txt\", header=None).iloc[:, 0]\n",
    "\n",
    "# Load and map y_train labels\n",
    "y_train = pd.read_csv(r\"C:\\Users\\doris\\Desktop\\Deep Neural Networks\\final project\\human+activity+recognition+using+smartphones\\UCI HAR Dataset\\UCI HAR Dataset\\train\\y_train.txt\", names=['Activity'])\n",
    "y_train_labels = y_train['Activity'].map({\n",
    "    1: 'WALKING', \n",
    "    2: 'WALKING_UPSTAIRS', \n",
    "    3: 'WALKING_DOWNSTAIRS',\n",
    "    4: 'SITTING', \n",
    "    5: 'STANDING', \n",
    "    6: 'LAYING'\n",
    "})\n",
    "\n",
    "# Merge into one DataFrame\n",
    "train = X_train.copy()\n",
    "train['Activity'] = y_train['Activity']\n",
    "train['ActivityName'] = y_train_labels\n",
    "\n",
    "# Display a sample of the DataFrame\n",
    "print(train.sample(2))\n",
    "\n",
    "\n",
    "\n"
   ]
  },
  {
   "cell_type": "code",
   "execution_count": 10,
   "id": "533ee1ef-0baf-41a0-8515-95ac457bed0a",
   "metadata": {},
   "outputs": [
    {
     "data": {
      "text/plain": [
       "(7352, 564)"
      ]
     },
     "execution_count": 10,
     "metadata": {},
     "output_type": "execute_result"
    }
   ],
   "source": [
    "train.shape"
   ]
  },
  {
   "cell_type": "code",
   "execution_count": 11,
   "id": "516ea805-ee2b-4331-ae49-5b765023b127",
   "metadata": {},
   "outputs": [
    {
     "name": "stdout",
     "output_type": "stream",
     "text": [
      "No of duplicates in train: 0\n"
     ]
    },
    {
     "ename": "NameError",
     "evalue": "name 'test' is not defined",
     "output_type": "error",
     "traceback": [
      "\u001b[1;31m---------------------------------------------------------------------------\u001b[0m",
      "\u001b[1;31mNameError\u001b[0m                                 Traceback (most recent call last)",
      "Cell \u001b[1;32mIn[11], line 2\u001b[0m\n\u001b[0;32m      1\u001b[0m \u001b[38;5;28mprint\u001b[39m(\u001b[38;5;124m'\u001b[39m\u001b[38;5;124mNo of duplicates in train: \u001b[39m\u001b[38;5;132;01m{}\u001b[39;00m\u001b[38;5;124m'\u001b[39m\u001b[38;5;241m.\u001b[39mformat(\u001b[38;5;28msum\u001b[39m(train\u001b[38;5;241m.\u001b[39mduplicated())))\n\u001b[1;32m----> 2\u001b[0m \u001b[38;5;28mprint\u001b[39m(\u001b[38;5;124m'\u001b[39m\u001b[38;5;124mNo of duplicates in test : \u001b[39m\u001b[38;5;132;01m{}\u001b[39;00m\u001b[38;5;124m'\u001b[39m\u001b[38;5;241m.\u001b[39mformat(\u001b[38;5;28msum\u001b[39m(\u001b[43mtest\u001b[49m\u001b[38;5;241m.\u001b[39mduplicated())))\n",
      "\u001b[1;31mNameError\u001b[0m: name 'test' is not defined"
     ]
    }
   ],
   "source": [
    "# get the data from txt files to pandas dataffame\n",
    "X_test = pd.read_csv('UCI_HAR_dataset/test/X_test.txt', delim_whitespace=True, header=None)\n",
    "X_test.columns = [features]\n",
    "# add subject column to the dataframe\n",
    "X_test['subject'] = pd.read_csv('UCI_HAR_dataset/test/subject_test.txt', header=None, squeeze=True)\n",
    "\n",
    "# get y labels from the txt file\n",
    "y_test = pd.read_csv('UCI_HAR_dataset/test/y_test.txt', names=['Activity'], squeeze=True)\n",
    "y_test_labels = y_test.map({1: 'WALKING', 2:'WALKING_UPSTAIRS',3:'WALKING_DOWNSTAIRS',\\\n",
    "                       4:'SITTING', 5:'STANDING',6:'LAYING'})\n",
    "\n",
    "\n",
    "# put all columns in a single dataframe\n",
    "test = X_test\n",
    "test['Activity'] = y_test\n",
    "test['ActivityName'] = y_test_labels\n",
    "test.sample(2)"
   ]
  },
  {
   "cell_type": "code",
   "execution_count": null,
   "id": "d37c569a-b02f-413e-9bcf-1a8c32b76e94",
   "metadata": {},
   "outputs": [],
   "source": []
  }
 ],
 "metadata": {
  "kernelspec": {
   "display_name": "Python 3 (ipykernel)",
   "language": "python",
   "name": "python3"
  },
  "language_info": {
   "codemirror_mode": {
    "name": "ipython",
    "version": 3
   },
   "file_extension": ".py",
   "mimetype": "text/x-python",
   "name": "python",
   "nbconvert_exporter": "python",
   "pygments_lexer": "ipython3",
   "version": "3.11.2"
  }
 },
 "nbformat": 4,
 "nbformat_minor": 5
}
